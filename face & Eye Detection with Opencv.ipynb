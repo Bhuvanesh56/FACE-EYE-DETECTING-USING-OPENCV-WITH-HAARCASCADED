{
 "cells": [
  {
   "cell_type": "markdown",
   "id": "d86d7aca",
   "metadata": {},
   "source": [
    "## Face and Eye Detection"
   ]
  },
  {
   "cell_type": "code",
   "execution_count": 1,
   "id": "ca97772a",
   "metadata": {},
   "outputs": [],
   "source": [
    "import numpy as np\n",
    "import cv2"
   ]
  },
  {
   "cell_type": "code",
   "execution_count": 2,
   "id": "214d0b5a",
   "metadata": {},
   "outputs": [],
   "source": [
    "# We will read the cascadeclassifier xml of front face\n",
    "face_classifier=cv2.CascadeClassifier(r\"D:\\NIT 10AM\\Notes\\05 May\\11th\\haarcascade_frontalface_default.xml\")\n",
    "\n",
    "#face_classifier=cv2.CascadeClassifier(\"D:/NIT 10AM/Notes/05 May/11th/haarcascade_frontalface_default.xml\")\n",
    "#then we Load the image to grayscale\n",
    "image=cv2.imread(r\"D:\\NIT 10AM\\Notes\\05 May\\11th\\image.jpg\")\n",
    "gray=cv2.cvtColor(image, cv2.COLOR_BGR2GRAY)\n",
    "# clasifier will detect the face and return as tuple\n",
    "# It stores top left coordination and bottom right co ordination\n",
    "\n",
    "faces=face_classifier.detectMultiScale(gray,1.3,5)\n",
    "# if no face found it will return an empty tuple\n",
    "if len(faces) == 0:\n",
    "    print(\"No Faces Found\")\n",
    "\n",
    "#we iterate through our faces and draw a rectangle\n",
    "#faces in faces\n",
    "for (x,y,w,h) in faces:\n",
    "    cv2.rectangle(image,(x,y),(x+w,y+h),(120,0,255),2)\n",
    "    cv2.imshow('Face Detection',image)\n",
    "    cv2.waitKey(0)\n",
    "cv2.destroyAllWindows()"
   ]
  },
  {
   "cell_type": "markdown",
   "id": "55148b2f",
   "metadata": {},
   "source": [
    "## Combining the face and eye"
   ]
  },
  {
   "cell_type": "code",
   "execution_count": 3,
   "id": "ed5907aa",
   "metadata": {},
   "outputs": [],
   "source": [
    "import numpy as np\n",
    "import cv2\n",
    "\n",
    "face_classifier=cv2.CascadeClassifier(r\"D:\\NIT 10AM\\Notes\\05 May\\11th\\haarcascade_frontalface_default.xml\")\n",
    "\n",
    "eye_classifier=cv2.CascadeClassifier(r\"D:\\NIT 10AM\\Notes\\05 May\\11th\\haarcascade_eye.xml\")\n",
    "\n",
    "img=cv2.imread(r\"D:\\NIT 10AM\\Notes\\05 May\\11th\\image.jpg\")\n",
    "gray=cv2.cvtColor(img, cv2.COLOR_BGR2GRAY)\n",
    "\n",
    "faces=face_classifier.detectMultiScale(gray,1.3,5)\n",
    "\n",
    "#when no faces detected it will return empty tuple\n",
    "\n",
    "if len(faces) ==0:\n",
    "    print('No faces found')\n",
    "\n",
    "for(x,y,w,h) in faces:\n",
    "    cv2.rectangle(img,(x,y),(x+w,y+h),(120,0,255),2)\n",
    "    cv2.imshow('img',img)\n",
    "    cv2.waitKey(0)\n",
    "    roi_gray=gray[y:y+h,x:x+w]\n",
    "    roi_color=img[y:y+h,x:x+w]\n",
    "    eyes=eye_classifier.detectMultiScale(roi_color)\n",
    "    for (ex,ey,ew,eh) in eyes:\n",
    "        cv2.rectangle(roi_color,(ex,ey),(ex+ew,ey+eh),(225,225,0),2)\n",
    "        cv2.imshow('img',img)\n",
    "        cv2.waitKey(0)\n",
    "cv2.destroyAllWindows()       \n",
    "    "
   ]
  },
  {
   "cell_type": "markdown",
   "id": "557ab18f",
   "metadata": {},
   "source": [
    "## Live face Dectetion"
   ]
  },
  {
   "cell_type": "code",
   "execution_count": 4,
   "id": "f986af2d",
   "metadata": {},
   "outputs": [],
   "source": [
    "import os\n",
    "os.environ['KMP_DUPLICATE_LIB_OK']='True'"
   ]
  },
  {
   "cell_type": "code",
   "execution_count": 5,
   "id": "3e91006d",
   "metadata": {},
   "outputs": [],
   "source": [
    "import numpy as np\n",
    "import cv2\n",
    "\n",
    "face_classifier=cv2.CascadeClassifier(r\"D:\\NIT 10AM\\Notes\\05 May\\11th\\haarcascade_frontalface_default.xml\")\n",
    "\n",
    "eye_classifier=cv2.CascadeClassifier(r\"D:\\NIT 10AM\\Notes\\05 May\\11th\\haarcascade_eye.xml\")\n",
    "\n",
    "def face_detector(img, size=0.5):\n",
    "    # convert image grey scale\n",
    "    gray=cv2.cvtColor(img,cv2.COLOR_BGR2GRAY)\n",
    "    faces=face_classifier.detectMultiScale(gray,1.3,5)\n",
    "    if len(faces) ==0:\n",
    "        return img\n",
    "    \n",
    "    for (x,y,w,h) in faces:\n",
    "        x = x-50\n",
    "        w = w+50\n",
    "        y = y-50\n",
    "        h = h+50\n",
    "        cv2.rectangle(img,(x,y),(x+w,y+h),(225,0,0),2)\n",
    "        roi_gray=gray[y:y+h,x:x+w]\n",
    "        roi_color=img[y:y+h,x:x+w]\n",
    "        eyes=eye_classifier.detectMultiScale(roi_gray)\n",
    "        \n",
    "        for(ex,ey,ew,eh) in faces:\n",
    "            cv2.rectangle(roi_color,(ex,ey),(ex+ew,ey+eh),(0,0,225),2)\n",
    "    \n",
    "    roi_color = cv2.flip(roi_color,1)\n",
    "    return roi_color\n",
    "\n",
    "cap = cv2. VideoCapture(0)\n",
    "\n",
    "while True:\n",
    "    \n",
    "    ret, frame=cap.read()\n",
    "    cv2.imshow('Our Face Extractor',face_detector(frame))\n",
    "    if cv2.waitKey(0) == 13:\n",
    "        break\n",
    "        \n",
    "cap.release()\n",
    "cv2.destroyAllWindows()"
   ]
  },
  {
   "cell_type": "code",
   "execution_count": null,
   "id": "57bdaade",
   "metadata": {},
   "outputs": [],
   "source": []
  },
  {
   "cell_type": "code",
   "execution_count": null,
   "id": "c18187d6",
   "metadata": {},
   "outputs": [],
   "source": []
  }
 ],
 "metadata": {
  "kernelspec": {
   "display_name": "Python 3 (ipykernel)",
   "language": "python",
   "name": "python3"
  },
  "language_info": {
   "codemirror_mode": {
    "name": "ipython",
    "version": 3
   },
   "file_extension": ".py",
   "mimetype": "text/x-python",
   "name": "python",
   "nbconvert_exporter": "python",
   "pygments_lexer": "ipython3",
   "version": "3.10.11"
  }
 },
 "nbformat": 4,
 "nbformat_minor": 5
}
